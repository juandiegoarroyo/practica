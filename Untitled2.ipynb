{
  "nbformat": 4,
  "nbformat_minor": 0,
  "metadata": {
    "colab": {
      "provenance": [],
      "authorship_tag": "ABX9TyOyBVbRreYP9X1UA82HiZjW",
      "include_colab_link": true
    },
    "kernelspec": {
      "name": "python3",
      "display_name": "Python 3"
    },
    "language_info": {
      "name": "python"
    }
  },
  "cells": [
    {
      "cell_type": "markdown",
      "metadata": {
        "id": "view-in-github",
        "colab_type": "text"
      },
      "source": [
        "<a href=\"https://colab.research.google.com/github/juandiegoarroyo/practica/blob/main/Untitled2.ipynb\" target=\"_parent\"><img src=\"https://colab.research.google.com/assets/colab-badge.svg\" alt=\"Open In Colab\"/></a>"
      ]
    },
    {
      "cell_type": "markdown",
      "source": [],
      "metadata": {
        "id": "yDs3XVGGeOue"
      }
    },
    {
      "cell_type": "markdown",
      "source": [
        "declare una lista de nombre balota que contendrá como elemento 18 números enteros"
      ],
      "metadata": {
        "id": "o--wBmhmeRT-"
      }
    },
    {
      "cell_type": "code",
      "source": [
        "balota = [1, 2, 3, 4, 5, 6, 7, 8, 9, 10, 11, 12, 13, 14, 15, 16, 17, 18]\n",
        "balota = list(range(1, 19))\n"
      ],
      "metadata": {
        "id": "alTjKurzeTwv"
      },
      "execution_count": 4,
      "outputs": []
    },
    {
      "cell_type": "markdown",
      "source": [
        "declare una lista cartón que contendrá en su declaración 9 números enteros que estén contenidos en la lista balotas"
      ],
      "metadata": {
        "id": "p0u5kVu4ef8B"
      }
    },
    {
      "cell_type": "code",
      "source": [
        "balota = [1, 2, 3, 4, 5, 6, 7, 8, 9, 10, 11, 12, 13, 14, 15, 16, 17, 18]\n",
        "\n",
        "import random\n",
        "carton = random.sample(balota, 9)\n",
        "\n",
        "\n",
        "print(carton)\n"
      ],
      "metadata": {
        "id": "NTAQ7Ak_fQTf"
      },
      "execution_count": null,
      "outputs": []
    },
    {
      "cell_type": "markdown",
      "source": [
        "declare un ciclo for que permita realizar 9 iteraciones ( oportunidades para el jugador )"
      ],
      "metadata": {
        "id": "AOvgBPrCfccd"
      }
    },
    {
      "cell_type": "code",
      "source": [
        "balota = [1, 2, 3, 4, 5, 6, 7, 8, 9, 10, 11, 12, 13, 14, 15, 16, 17, 18]\n",
        "carton = random.sample(balota, 9)\n",
        "\n",
        "for i in range(9):\n",
        "    print(f\"Oportunidad {i + 1}: {carton}\")\n",
        "\n"
      ],
      "metadata": {
        "id": "ibaUj_hFgBde"
      },
      "execution_count": null,
      "outputs": []
    },
    {
      "cell_type": "markdown",
      "source": [
        "dentro de ese ciclo for declare una balota que sera igual a un numero aleatorio entre el menor y el mayor de la lista balotas (recuerde la funcion randint (menor. mayor)) y en la primera linea de codigo colocar :  from random import randint"
      ],
      "metadata": {
        "id": "xYY4WSv7gicC"
      }
    },
    {
      "cell_type": "code",
      "source": [
        "from random import randint\n",
        "\n",
        "balota = [1, 2, 3, 4, 5, 6, 7, 8, 9, 10, 11, 12, 13, 14, 15, 16, 17, 18]\n",
        "carton = random.sample(balota, 9)\n",
        "\n",
        "for i in range(9):\n",
        "    nueva_balota = randint(min(balota), max(balota))\n",
        "\n",
        "    print(f\"Oportunidad {i + 1}: {carton}\")\n",
        "    print(f\"Balota seleccionada: {nueva_balota}\")\n",
        "\n"
      ],
      "metadata": {
        "id": "PY5hsvngh6k1"
      },
      "execution_count": null,
      "outputs": []
    },
    {
      "cell_type": "markdown",
      "source": [
        "recorra con otro ciclo for la lista carton. para verificar si el numero aleatorio existe en ella, si es asi guarde dicho numero en una nueva lista llamada aciertos"
      ],
      "metadata": {
        "id": "Ww3qc3U2ieoq"
      }
    },
    {
      "cell_type": "code",
      "source": [
        "from random import randint\n",
        "\n",
        "balota = [1, 2, 3, 4, 5, 6, 7, 8, 9, 10, 11, 12, 13, 14, 15, 16, 17, 18]\n",
        "carton = random.sample(balota, 9)\n",
        "\n",
        "aciertos = []\n",
        "\n",
        "for i in range(9):\n",
        "    nueva_balota = randint(min(balota), max(balota))\n",
        "\n",
        "    print(f\"Oportunidad {i + 1}: {carton}\")\n",
        "    print(f\"Balota seleccionada: {nueva_balota}\")\n",
        "\n",
        "    if nueva_balota in carton:\n",
        "        aciertos.append(nueva_balota)\n",
        "\n",
        "\n",
        "print(f\"Aciertos: {aciertos}\")\n"
      ],
      "metadata": {
        "id": "QWQhdgLbjULa"
      },
      "execution_count": null,
      "outputs": []
    },
    {
      "cell_type": "markdown",
      "source": [],
      "metadata": {
        "id": "3VVpopdfj0X8"
      }
    },
    {
      "cell_type": "markdown",
      "source": [
        "al finalizar el ciclo de las 9 iteraciones ( oportunidades) imprima. la lista acietos"
      ],
      "metadata": {
        "id": "d6VtndV5j4gN"
      }
    },
    {
      "cell_type": "code",
      "source": [
        "from random import randint\n",
        "\n",
        "balota = [1, 2, 3, 4, 5, 6, 7, 8, 9, 10, 11, 12, 13, 14, 15, 16, 17, 18]\n",
        "carton = random.sample(balota, 9)\n",
        "\n",
        "aciertos = []\n",
        "\n",
        "for i in range(9):\n",
        "    nueva_balota = randint(min(balota), max(balota))\n",
        "\n",
        "    print(f\"Oportunidad {i + 1}: {carton}\")\n",
        "    print(f\"Balota seleccionada: {nueva_balota}\")\n",
        "\n",
        "    if nueva_balota in carton:\n",
        "        aciertos.append(nueva_balota)\n",
        "\n",
        "print(f\"\\nAciertos: {aciertos}\")\n"
      ],
      "metadata": {
        "id": "Z-9owMR4kVqi"
      },
      "execution_count": null,
      "outputs": []
    },
    {
      "cell_type": "markdown",
      "source": [
        "luego verifique si el tamaño de la lista de aciertos es 3 o mas 3, imprima un mensaje que diga: ¡¡¡bingo¡¡¡ , sino. ¡¡¡¡siga intentando con otra partida¡¡¡¡"
      ],
      "metadata": {
        "id": "_Fgp5PKIkrzN"
      }
    },
    {
      "cell_type": "code",
      "source": [
        "from random import randint\n",
        "\n",
        "balota = [1, 2, 3, 4, 5, 6, 7, 8, 9, 10, 11, 12, 13, 14, 15, 16, 17, 18]\n",
        "carton = random.sample(balota, 9)\n",
        "\n",
        "aciertos = []\n",
        "\n",
        "for i in range(9):\n",
        "    nueva_balota = randint(min(balota), max(balota))\n",
        "\n",
        "    print(f\"Oportunidad {i + 1}: {carton}\")\n",
        "    print(f\"Balota seleccionada: {nueva_balota}\")\n",
        "\n",
        "    if nueva_balota in carton:\n",
        "        aciertos.append(nueva_balota)\n",
        "\n",
        "print(f\"\\nAciertos: {aciertos}\")\n",
        "\n",
        "if len(aciertos) >= 3:\n",
        "    print(\"¡¡¡Bingo!!!\")\n",
        "else:\n",
        "    print(\"¡¡¡Siga intentando con otra partida!!!\")\n"
      ],
      "metadata": {
        "id": "eWzQNOPWlizF"
      },
      "execution_count": null,
      "outputs": []
    },
    {
      "cell_type": "code",
      "source": [],
      "metadata": {
        "id": "GMv9D9vuoYIl"
      },
      "execution_count": null,
      "outputs": []
    },
    {
      "cell_type": "code",
      "source": [],
      "metadata": {
        "id": "F1Xa4_FeoYX8"
      },
      "execution_count": null,
      "outputs": []
    }
  ]
}